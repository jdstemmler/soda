{
 "cells": [
  {
   "cell_type": "markdown",
   "metadata": {},
   "source": [
    "# Python Wrapper for the Socrata Open Data API"
   ]
  },
  {
   "cell_type": "markdown",
   "metadata": {},
   "source": [
    "## Introduction\n",
    "\n",
    "In an effort to make the Socrata Open Data API more accessible in python, I wrote a little wrapper that helps with formatting queries and urls and app_tokens to ease the slight mess that resulted from doing it from scratch. \n",
    "\n",
    "**IMPORTANT: Please take some time to understand how the API works. It will really help if you know how to write SoQL queries and work with locations and datetimes correctly**\n",
    "\n",
    "[Getting Started with the SODA Consumer API](https://dev.socrata.com/consumers/getting-started.html)\n",
    "\n",
    "Here are some example ways of using it! "
   ]
  },
  {
   "cell_type": "markdown",
   "metadata": {},
   "source": [
    "## Imports\n",
    "\n",
    "I am importing datetime to get data from \"today\" in order to speed up some of the queries.\n",
    "\n",
    "As of this instant, the package is called soda. You will want to import the `SODA` class from the `soda` package as shown below. In addition to SODA, I am importing my application token from an external file. This is a good habit, as you can't actually see my app token this way. `settings` is just a `settings.py` file in the current direcory with the `APP_TOKEN` variable defined."
   ]
  },
  {
   "cell_type": "code",
   "execution_count": 1,
   "metadata": {
    "collapsed": true
   },
   "outputs": [],
   "source": [
    "import datetime\n",
    "import pandas as pd\n",
    "# import the Socrata Open Data API\n",
    "from soda import SODA\n",
    "\n",
    "# import my application token from a file\n",
    "from settings import APP_TOKEN"
   ]
  },
  {
   "cell_type": "markdown",
   "metadata": {},
   "source": [
    "## Basic Setup\n",
    "\n",
    "The only information that the SODA object really needs to be created is the base URL of the dataset you're trying to access. Let's set this up and initiate the SODA object!"
   ]
  },
  {
   "cell_type": "code",
   "execution_count": 2,
   "metadata": {
    "collapsed": false
   },
   "outputs": [
    {
     "name": "stdout",
     "output_type": "stream",
     "text": [
      "https://data.seattle.gov/resource/3k2p-39jp.csv\n"
     ]
    }
   ],
   "source": [
    "api_url = 'https://data.seattle.gov/resource/3k2p-39jp.csv'\n",
    "data = SODA(api_url)\n",
    "print data.api_url"
   ]
  },
  {
   "cell_type": "markdown",
   "metadata": {},
   "source": [
    "## Set the Token\n",
    "\n",
    "By design, this package will not request data if you have not set your token. You can set the token one of two ways. If you would like to set your token when you instantiate your SODA object, you can pass the token in as a `token` keyword argument:\n",
    "    \n",
    "    data = SODA(api_url, token=APP_TOKEN)\n",
    "\n",
    "Alternatively, we can set the token after the fact by calling `set_token(APP_TOKEN)` on the SODA object like so:\n",
    "\n",
    "    data = SODA(api_url)\n",
    "    data.set_token(APP_TOKEN)"
   ]
  },
  {
   "cell_type": "code",
   "execution_count": 3,
   "metadata": {
    "collapsed": true
   },
   "outputs": [],
   "source": [
    "data.set_token(APP_TOKEN)"
   ]
  },
  {
   "cell_type": "markdown",
   "metadata": {},
   "source": [
    "## Set up the query\n",
    "\n",
    "At this point, you could go out and get data (described later). However, you'll most likely want to do some pre-filtering and querying of the data to reduce the amount of data you get. This can be done using the `set_query` method!\n",
    "\n",
    "For our example, we will be getting the City of Seattle 911 calls for the police department. We only want to the the most recent 10 calls from today.\n",
    "\n",
    "At this point, you will want to familiarize yourself with [SoQL](https://dev.socrata.com/docs/queries.html). Go do that, and then come back.\n",
    "\n",
    "Welcome back! We are going to put all of our queries into a dictionary that we can pass into the SODA object. This is structured so that the key of the dictionary is the SoQL query parameter and the value is the expression. **IMPORTANT: as of the current version, this only supports SoQL queries and NOT simple filters. Support for simple filters is on the ToDo list.** Let's dive in with an example:"
   ]
  },
  {
   "cell_type": "code",
   "execution_count": 4,
   "metadata": {
    "collapsed": false
   },
   "outputs": [
    {
     "name": "stdout",
     "output_type": "stream",
     "text": [
      "{'limit': 10,\n",
      " 'order': 'event_clearance_date',\n",
      " 'where': \"event_clearance_date >= '2015-11-18T00:00:00'\"}\n",
      "https://data.seattle.gov/resource/3k2p-39jp.csv?$$app_token=abcd1234&$where=event_clearance_date%20>=%20%272015-11-18T00:00:00%27&$limit=10&$order=event_clearance_date\n"
     ]
    }
   ],
   "source": [
    "# set the date that we'd like to look at\n",
    "today = datetime.date.today()\n",
    "# format the date as Floating Timestamp Datetype\n",
    "# https://dev.socrata.com/docs/datatypes/floating_timestamp.html\n",
    "td = today.strftime('%Y-%m-%dT%H:%M:%S')\n",
    "\n",
    "# structure the query as a dictionary\n",
    "query = dict(limit=10,\n",
    "             where=\"event_clearance_date >= '{}'\".format(td),\n",
    "             order=\"event_clearance_date\"\n",
    "            )\n",
    "\n",
    "# set the query!\n",
    "data.set_query(query)\n",
    "\n",
    "# print out the final URL of the query (using a dummy token)\n",
    "data.set_token('abcd1234')\n",
    "data.print_query()\n",
    "print(data.url)\n",
    "\n",
    "# reset my token back to what it should be\n",
    "data.set_token(APP_TOKEN)"
   ]
  },
  {
   "cell_type": "markdown",
   "metadata": {},
   "source": [
    "## Get some DATA!\n",
    "\n",
    "Okay. We've created our class with the api_url and set our token. We've formatted our query so it plays nice with SoQL. Now we want to actually get some data. Up until this point, the SODA object has not made any requests to the api.\n",
    "\n",
    "### Raw Data\n",
    "We can get the data in one of several ways. When we specified the api endpoint, we specified that we would like it as a `csv` file. There are three options available: csv, xml, and json. If we use the `get_request()` method of the SODA api, you'll get the data in whatever format you requested. In this case,  we'll get a csv string.\n",
    "\n",
    "    request = data.get_request()"
   ]
  },
  {
   "cell_type": "code",
   "execution_count": 5,
   "metadata": {
    "collapsed": false
   },
   "outputs": [
    {
     "name": "stdout",
     "output_type": "stream",
     "text": [
      "CAD CDW ID,CAD Event Number,General Offense Number,Event Clearance Code,Event Clearance Description,Event Clearance SubGroup,Event Clearance Group,Event Clearance Date,Hundred Block Location,District/Sector,Zone/Beat,Census Tract,Longitude,Latitude,Incident Location,Initial Type Description,Initial Type Subgroup,Initial Type Group,At Scene Time\n",
      "1612516,15000402304,2015402304,280,SUSPICIOUS PERSON,SUSPICIOUS CIRCUMSTANCES,SUSPICIOUS CIRCUMSTANCES,11/18/2015 12:07:16 AM,16XX BLOCK OF 24 AV,C,C3,7700.3004,-122.30139,47.615894,\"(47.615894, -122.30139)\",\"SUSPICIOUS PERSON, VEHICLE OR INCIDENT\",SUSPICIOUS CIRCUMSTANCES,SUSPICIOUS CIRCUMSTANCES,\n",
      "1612515,15000402312,2015402312,050,\"BURGLARY - RESIDENTIAL, UNOCCUPIED\",RESIDENTIAL BURGLARIES,BURGLARY,11/18/2015 12:09:54 AM,47XX BLOCK OF 18 AV NE,U,U1,5301.1001,-122.30834,47.663963,\"(47.663963, -122.30834)\",TRESPASS,TRESPASS,TRESPASS,\n",
      "1612518,15000402195,2015402195,470,PARKING VIOLATION (EXCEPT ABANDONED VEHICLES),PARKING VIOLATIONS,TRAFFIC RELAT\n"
     ]
    }
   ],
   "source": [
    "request = data.get_request()\n",
    "print request[:1000]"
   ]
  },
  {
   "cell_type": "markdown",
   "metadata": {},
   "source": [
    "### Pandas DataFrame\n",
    "\n",
    "If, instead of the raw data, you'd like to see your data neatly stored as a pandas DataFrame, you can use the `get_df()` method to do just that. This will work with either the json or csv endpoints, but I tend to prefer the output that comes out from the csv formatted API endpoint. Getting the dataframe is as easy as replacing the call above with get_df() as follows:\n",
    "\n",
    "    df = data.get_df()"
   ]
  },
  {
   "cell_type": "code",
   "execution_count": 6,
   "metadata": {
    "collapsed": false
   },
   "outputs": [
    {
     "data": {
      "text/html": [
       "<div>\n",
       "<table border=\"1\" class=\"dataframe\">\n",
       "  <thead>\n",
       "    <tr style=\"text-align: right;\">\n",
       "      <th></th>\n",
       "      <th>0</th>\n",
       "    </tr>\n",
       "  </thead>\n",
       "  <tbody>\n",
       "    <tr>\n",
       "      <th>CAD CDW ID</th>\n",
       "      <td>1612516</td>\n",
       "    </tr>\n",
       "    <tr>\n",
       "      <th>CAD Event Number</th>\n",
       "      <td>15000402304</td>\n",
       "    </tr>\n",
       "    <tr>\n",
       "      <th>General Offense Number</th>\n",
       "      <td>2015402304</td>\n",
       "    </tr>\n",
       "    <tr>\n",
       "      <th>Event Clearance Code</th>\n",
       "      <td>280</td>\n",
       "    </tr>\n",
       "    <tr>\n",
       "      <th>Event Clearance Description</th>\n",
       "      <td>SUSPICIOUS PERSON</td>\n",
       "    </tr>\n",
       "    <tr>\n",
       "      <th>Event Clearance SubGroup</th>\n",
       "      <td>SUSPICIOUS CIRCUMSTANCES</td>\n",
       "    </tr>\n",
       "    <tr>\n",
       "      <th>Event Clearance Group</th>\n",
       "      <td>SUSPICIOUS CIRCUMSTANCES</td>\n",
       "    </tr>\n",
       "    <tr>\n",
       "      <th>Event Clearance Date</th>\n",
       "      <td>11/18/2015 12:07:16 AM</td>\n",
       "    </tr>\n",
       "    <tr>\n",
       "      <th>Hundred Block Location</th>\n",
       "      <td>16XX BLOCK OF 24 AV</td>\n",
       "    </tr>\n",
       "    <tr>\n",
       "      <th>District/Sector</th>\n",
       "      <td>C</td>\n",
       "    </tr>\n",
       "    <tr>\n",
       "      <th>Zone/Beat</th>\n",
       "      <td>C3</td>\n",
       "    </tr>\n",
       "    <tr>\n",
       "      <th>Census Tract</th>\n",
       "      <td>7700.3</td>\n",
       "    </tr>\n",
       "    <tr>\n",
       "      <th>Longitude</th>\n",
       "      <td>-122.301</td>\n",
       "    </tr>\n",
       "    <tr>\n",
       "      <th>Latitude</th>\n",
       "      <td>47.6159</td>\n",
       "    </tr>\n",
       "    <tr>\n",
       "      <th>Incident Location</th>\n",
       "      <td>(47.615894, -122.30139)</td>\n",
       "    </tr>\n",
       "    <tr>\n",
       "      <th>Initial Type Description</th>\n",
       "      <td>SUSPICIOUS PERSON, VEHICLE OR INCIDENT</td>\n",
       "    </tr>\n",
       "    <tr>\n",
       "      <th>Initial Type Subgroup</th>\n",
       "      <td>SUSPICIOUS CIRCUMSTANCES</td>\n",
       "    </tr>\n",
       "    <tr>\n",
       "      <th>Initial Type Group</th>\n",
       "      <td>SUSPICIOUS CIRCUMSTANCES</td>\n",
       "    </tr>\n",
       "    <tr>\n",
       "      <th>At Scene Time</th>\n",
       "      <td>NaN</td>\n",
       "    </tr>\n",
       "  </tbody>\n",
       "</table>\n",
       "</div>"
      ],
      "text/plain": [
       "                                                                  0\n",
       "CAD CDW ID                                                  1612516\n",
       "CAD Event Number                                        15000402304\n",
       "General Offense Number                                   2015402304\n",
       "Event Clearance Code                                            280\n",
       "Event Clearance Description                       SUSPICIOUS PERSON\n",
       "Event Clearance SubGroup                   SUSPICIOUS CIRCUMSTANCES\n",
       "Event Clearance Group                      SUSPICIOUS CIRCUMSTANCES\n",
       "Event Clearance Date                         11/18/2015 12:07:16 AM\n",
       "Hundred Block Location                          16XX BLOCK OF 24 AV\n",
       "District/Sector                                                   C\n",
       "Zone/Beat                                                        C3\n",
       "Census Tract                                                 7700.3\n",
       "Longitude                                                  -122.301\n",
       "Latitude                                                    47.6159\n",
       "Incident Location                           (47.615894, -122.30139)\n",
       "Initial Type Description     SUSPICIOUS PERSON, VEHICLE OR INCIDENT\n",
       "Initial Type Subgroup                      SUSPICIOUS CIRCUMSTANCES\n",
       "Initial Type Group                         SUSPICIOUS CIRCUMSTANCES\n",
       "At Scene Time                                                   NaN"
      ]
     },
     "execution_count": 6,
     "metadata": {},
     "output_type": "execute_result"
    }
   ],
   "source": [
    "df = data.get_df()\n",
    "df.head(1).T"
   ]
  },
  {
   "cell_type": "markdown",
   "metadata": {},
   "source": [
    "## Limitations\n",
    "\n",
    "As the project stands right now, there are a handful of limitations which are really only present due to the infancy of this project. Most of these are at the top of the to-do list for implementation, and this document will be updated when these items are addressed. Limitations that I could think of are as follows, in no particular order of importance:\n",
    "\n",
    "* Can only handle SoQL style queries, simple filtering does not work\n",
    "* No support for the XML style other than get_request() (ie no pandas support)\n",
    "* No support for paging through queries\n",
    "\n",
    "## To-Do\n",
    "\n",
    "Other than building support for the limitations listed above, I don't have much of a to-do list. Feel free to let me know what I should do!"
   ]
  }
 ],
 "metadata": {
  "kernelspec": {
   "display_name": "Python 2",
   "language": "python",
   "name": "python2"
  },
  "language_info": {
   "codemirror_mode": {
    "name": "ipython",
    "version": 2
   },
   "file_extension": ".py",
   "mimetype": "text/x-python",
   "name": "python",
   "nbconvert_exporter": "python",
   "pygments_lexer": "ipython2",
   "version": "2.7.10"
  }
 },
 "nbformat": 4,
 "nbformat_minor": 0
}
